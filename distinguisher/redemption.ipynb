{
 "cells": [
  {
   "cell_type": "code",
   "execution_count": 1,
   "metadata": {},
   "outputs": [],
   "source": [
    "import pandas as pd"
   ]
  },
  {
   "cell_type": "code",
   "execution_count": 22,
   "metadata": {},
   "outputs": [
    {
     "name": "stdout",
     "output_type": "stream",
     "text": [
      "14\n"
     ]
    },
    {
     "data": {
      "text/plain": [
       "[9, 19, 27, 39, 40, 41, 42, 58, 99, 100, 106, 109, 116, 125]"
      ]
     },
     "execution_count": 22,
     "metadata": {},
     "output_type": "execute_result"
    }
   ],
   "source": [
    "df = pd.read_csv('results/redemption_with_4o.csv')\n",
    "# filter df to include rows where Origin = 2nd_choice\n",
    "df = df[(df['Origin'] != df['2nd_choice']) | (df['Origin'] != df['2nd_flipped_choice'])]\n",
    "print(len(df))\n",
    "list(df.index)"
   ]
  },
  {
   "cell_type": "code",
   "execution_count": 23,
   "metadata": {},
   "outputs": [
    {
     "name": "stdout",
     "output_type": "stream",
     "text": [
      "1\n"
     ]
    },
    {
     "data": {
      "text/plain": [
       "[58]"
      ]
     },
     "execution_count": 23,
     "metadata": {},
     "output_type": "execute_result"
    }
   ],
   "source": [
    "df = pd.read_csv('results/redemption_with_4o_logic.csv')\n",
    "# filter df to include rows where Origin = 2nd_choice\n",
    "df = df[(df['Origin'] != df['2nd_choice']) | (df['Origin'] != df['2nd_flipped_choice'])]\n",
    "print(len(df))\n",
    "list(df.index)"
   ]
  },
  {
   "cell_type": "code",
   "execution_count": 24,
   "metadata": {},
   "outputs": [
    {
     "data": {
      "text/html": [
       "<div>\n",
       "<style scoped>\n",
       "    .dataframe tbody tr th:only-of-type {\n",
       "        vertical-align: middle;\n",
       "    }\n",
       "\n",
       "    .dataframe tbody tr th {\n",
       "        vertical-align: top;\n",
       "    }\n",
       "\n",
       "    .dataframe thead th {\n",
       "        text-align: right;\n",
       "    }\n",
       "</style>\n",
       "<table border=\"1\" class=\"dataframe\">\n",
       "  <thead>\n",
       "    <tr style=\"text-align: right;\">\n",
       "      <th></th>\n",
       "      <th>P</th>\n",
       "      <th>Num</th>\n",
       "      <th>Origin</th>\n",
       "      <th>choice</th>\n",
       "      <th>flipped_choice</th>\n",
       "      <th>prompt</th>\n",
       "      <th>o_str</th>\n",
       "      <th>w_str</th>\n",
       "      <th>m_str</th>\n",
       "      <th>prompt_type</th>\n",
       "      <th>entropy</th>\n",
       "      <th>attack1_id</th>\n",
       "      <th>attack2_id</th>\n",
       "      <th>group_id</th>\n",
       "      <th>origin_A</th>\n",
       "      <th>origin_B</th>\n",
       "      <th>2nd_choice</th>\n",
       "      <th>2nd_reason</th>\n",
       "      <th>2nd_flipped_choice</th>\n",
       "      <th>2nd_flipped_reason</th>\n",
       "    </tr>\n",
       "  </thead>\n",
       "  <tbody>\n",
       "    <tr>\n",
       "      <th>58</th>\n",
       "      <td>For centuries, humanity has been captivated by...</td>\n",
       "      <td>120</td>\n",
       "      <td>B</td>\n",
       "      <td>A</td>\n",
       "      <td>B</td>\n",
       "      <td>Write a 500-word essay about the importance of...</td>\n",
       "      <td>InternLMOracle</td>\n",
       "      <td>Adaptive</td>\n",
       "      <td>SentenceMutator</td>\n",
       "      <td>space</td>\n",
       "      <td>2</td>\n",
       "      <td>3</td>\n",
       "      <td>5</td>\n",
       "      <td>10</td>\n",
       "      <td>Since ancient times, humanity has been fascina...</td>\n",
       "      <td>Since ancient times, humanity has been fascina...</td>\n",
       "      <td>A</td>\n",
       "      <td>The modified text is more closely related to O...</td>\n",
       "      <td>B</td>\n",
       "      <td>The modified text is derived from Original res...</td>\n",
       "    </tr>\n",
       "  </tbody>\n",
       "</table>\n",
       "</div>"
      ],
      "text/plain": [
       "                                                    P  Num Origin choice  \\\n",
       "58  For centuries, humanity has been captivated by...  120      B      A   \n",
       "\n",
       "   flipped_choice                                             prompt  \\\n",
       "58              B  Write a 500-word essay about the importance of...   \n",
       "\n",
       "             o_str     w_str            m_str prompt_type  entropy  \\\n",
       "58  InternLMOracle  Adaptive  SentenceMutator       space        2   \n",
       "\n",
       "    attack1_id  attack2_id  group_id  \\\n",
       "58           3           5        10   \n",
       "\n",
       "                                             origin_A  \\\n",
       "58  Since ancient times, humanity has been fascina...   \n",
       "\n",
       "                                             origin_B 2nd_choice  \\\n",
       "58  Since ancient times, humanity has been fascina...          A   \n",
       "\n",
       "                                           2nd_reason 2nd_flipped_choice  \\\n",
       "58  The modified text is more closely related to O...                  B   \n",
       "\n",
       "                                   2nd_flipped_reason  \n",
       "58  The modified text is derived from Original res...  "
      ]
     },
     "execution_count": 24,
     "metadata": {},
     "output_type": "execute_result"
    }
   ],
   "source": [
    "df"
   ]
  },
  {
   "cell_type": "code",
   "execution_count": 28,
   "metadata": {},
   "outputs": [
    {
     "name": "stdout",
     "output_type": "stream",
     "text": [
      "Modified text: For centuries, humanity has been captivated by the universe's mystique, driving an insatiable pursuit of understanding through pioneering space exploration and innovative scientific breakthroughs, which has ultimately enabled us to chart and explore the cosmos with unparalleled precision. The importance of space exploration cannot be exaggerated, as it drives the expansion of our understanding and catalyzes groundbreaking innovations. Delving into the vast expanse of the universe reveals a multitude of mysteries surrounding the intricate mechanisms that govern celestial entities, from the synchronized dance of our solar system to the complex network of galaxy clusters, the boundless emptiness of intergalactic space, and the elusive properties of dark matter and energy. Exploring the cosmos has a profound effect on enriching our lives on Earth. Exploring the cosmos allows us to gain a deeper insight into the universe's intricate complexity, comprising luminous celestial bodies, diverse planetary systems, vast galaxy formations, mysterious voids, unseen gravitational influences, and the fundamental drivers of the universe's ceaseless expansion. Delving into the universe's vast expanse enables scientists to decipher the complex mechanisms driving its development, as certain phenomena exceed the scope of Earth-based observation. Future space missions will build upon the substantial insights acquired from past space explorations, ultimately leading to a more profound comprehension of celestial bodies' properties and makeup. Our investigation explores the universe's primordial era, revealing the fundamental principles that have governed its evolution from the very beginning. Space exploration has a profound influence on people's daily lives, bridging geographical and societal divides. Advances in space technology are being redirected to tackle pressing global challenges, such as developing more efficient water treatment systems, telemedicine platforms for underserved communities, and sophisticated navigation tools. Thanks to modern communication tools, researchers globally can collaborate more efficiently towards a shared objective. The advantages of space exploration far surpass the confines of our planet, yielding a multitude of tangible benefits that extend far beyond Earth's atmosphere. The drive to explore space triggers a chain reaction of technological breakthroughs, which in turn propels economic growth by giving rise to innovative industries, generating employment opportunities, and producing high-value products that enrich our daily lives and generate substantial profits. According to a recent report from the Space Foundation, the global space industry has reached a significant revenue threshold of $415 billion. Entering the realm of space is a shrewd business move, as it offers a boundless, uncharted territory that holds immense possibilities waiting to be harnessed. Humanity's insatiable thirst for knowledge and innovation drives us relentlessly, as an unrelenting passion for discovery and a steadfast commitment to pushing beyond the boundaries of what was once deemed possible propel us toward the realization of long-held dreams that were previously dismissed as mere illusions. As we venture further into the unknown, we uncover pioneering findings that expand our understanding, revealing uncharted territories that test the limits of our current understanding. The quest for space exploration represents a shared aspiration that transcends cultural and social divides, as collaborative creativity, a pioneering mindset, and unwavering determination empower humanity to defy conventional limits and achieve the extraordinary. Unveiling the mysteries of the cosmos through space exploration has profound consequences, including catalyzing revolutionary breakthroughs that enhance daily life, fostering a collective global effort towards shared goals, and yielding substantial economic benefits. Humanity's innate drive for exploration is a testament to our boundless curiosity and creative potential, as we continually seek to expand our knowledge and unravel the secrets of the unknown, driven by an insatiable thirst for discovery. To drive space exploration forward, unwavering commitment and stable funding will be crucial, enabling us to remain steadfast in our quest for celestial knowledge, igniting human progress, uncovering trailblazing discoveries, and leaving a lasting legacy that will inspire future generations to chart their own courses through unexplored frontiers.\n",
      "___________________________________________________________\n",
      "Original response A: Since ancient times, humanity has been fascinated by space and has sought knowledge of celestial bodies and other worlds that exist within it, driving us forward through centuries of scientific inquiry and discovery, ultimately leading us closer and closer toward an understanding of ourselves and where we belong in the universe. The importance of space research lies not only in the potential discoveries waiting for us but also in its role as a catalyst for advancements in human knowledge.\n",
      "\n",
      "One of the primary advantages of space study is the vast amount of information it can yield regarding the origins of our planet and the universe itself. Space contains a multitude of objects such as stars, galaxies, asteroids, and planets which hold secrets to how the cosmos was formed and has since developed over time. Exploring space allows scientists to collect valuable information from distant worlds that may shed new light on fundamental questions such as the possibility of extrrestrial life or the conditions under which planets can sustain ecosystems similar to earth's, furthering our comprehension of the universe's workings and potentially unlocking new avenues for future research into astrobiology and exoplanetary science.\n",
      "\n",
      "Furthermore, space travel has proven to be a powerful driver of technological progress that extends well beyond the realm of space itself. The pursuit of space research necessitates the creation of cutting-edge technologies capable of surviving the harsh conditions encountered both during spaceflight and upon arrival at other celestial bodies. Innovations such as advanced materials, sophisticated computing systems, communication devices, renewable energy technologies, among many others, were initially developed to address specific needs related to space missions yet soon find widespread applications that significantly impact daily life - from telemedicine enabled through improvements in digital communications to environmental monitoring systems derived from weather forecasting tools originally designed for predicting space weather events.\n",
      "\n",
      "In terms of economic growth, investment in space programs generates substantial returns both directly and indirectly. Directly, the industry supports thousands of skilled professionals worldwide involved in manufacturing spacecraft equipment, launching vehicles, ground control stations, as well as the training required for personnel involved in space missions, thus stimulating employment rates while generating considerable government revenues from taxes collected from private companies working in this sector. Furthermore, indirect economic impacts arise when technologies developed specifically with the intention of facilitating space travel are repurposed and commercialized - examples being Global Positioning Systems (GPS) now ubiquitous worldwide due to the accuracy they bring in location tracking and emergency rescue situations or the application of lightweight materials developed for spacecraft construction now widely used across various industries from automotive to aerospace engineering.\n",
      "\n",
      "Lastly, space research contributes to inspiring future generations towards STEM disciplines - Science, Technology, Engineering, and Mathematics - essential not just for continuing the legacy of space exploration but also addressing the myriad of problems humanity faces today ranging from environmental sustainability, health care, food supply security, among others. The awe-inspiring nature of venturing into the unknown coupled with the tangible accomplishments achieved thus far instills a sense of wonder that can motivate young minds to pursue career paths that could eventually yield the answers we seek regarding not just the cosmos but the intricacies of the world we inhabit.\n",
      "\n",
      "To sum up, the significance of space exploration cannot be overstated given its pivotal role in unraveling the secrets of the universe, driving technological progress, stimulating economic growth, and inspiring new generations towards a career path that could change the course of human civilization. As we continue our journey outward from Earth, each step forward illuminates more of what lies hidden behind the shrowd of mystery surrounding our existence, bringing us ever closer to understanding who we are, why we're here, and what lies ahead for humanity.<|eot_id|>\n",
      "___________________________________________________________\n",
      "Original response B: Since ancient times, humanity has been fascinated by space and has sought knowledge of it through astronomy and other scientific endeavors, leading eventually, after centuries of curiosity and research, 60+ year's of spacefarae and spaceflight, as we know today. The importance of space travel cannot be overestimated, as it holds a vital role in increasing human understanding and driving technological progress. Exploring space allows us to gain valuable insight into celestial objects such as the suns' solar system; galaxies; black holes; dark matter and dark energy. Moreover, space travel contributes significantly towards improving life here on earth.\n",
      "\n",
      "Space travel helps us better understand celestial objects such as stars, planets, galaxies, black holes, dark matter, and dark energy. It enables scientists to study phenomena that are not observable from Earth's surface or atmosphere, gaining new perspectives about cosmic evolution. Space missions can collect valuable information regarding composition and properties of extraterrestrial materials which could aid future exploration activities. Furthermore, studying extreme environments existing beyond Earth expands our knowledge about fundamental physical processes that shaped our universe since its beginning.\n",
      "\n",
      "Advancements made during space missions greatly impact daily lives of people worldwide. Technological improvements developed specifically for space exploration - such as water purification systems; telemedicine; weather forecasting; Global Positioning Systems (GPS) - find practical applications solving real-world problems faced on Earth. Improved communication devices facilitate international collaboration among researchers working together towards common goals. These examples illustrate how investment into space exploration generates tangible benefits extending well-beyond outer reaches of Earth’s atmosphere.\n",
      "\n",
      "Investment in space exploration drives technological growth that leads to economic returns as it creates new industries; employment opportunities and products derived from space research improve overall human experience while generating substantial financial gains. According to estimates published by Space foundation non-profit advocacy group \"the space industry generated $415 billion USD revenues\" worldwide. Investing resources towards exploring cosmos thus makes sound business sense as potential discoveries promise vast untapped possibilities waiting discovery.\n",
      "\n",
      "\n",
      "The pursuit of space travel represents an essential aspect of human nature - curiosity, pioneering spirit and innate urge to push boundaries of what seems possible at present time - driving us forward toward unattainable dreams of yesterday. As we reach out further, we discover more secrets of creation itself opening new paths previously unimaginable. Exploration of space symbolizes collective aspirations shared globally transcending borders, cultures, generations: a testament of what collaborative effort achieves when driven by passion, creativity and unwaverging determination.\n",
      "\n",
      "In Conclusion, space travel holds paramount importance as a means to acquire deeper insights about cosmos; stimulate advancements yielding practical results applicable across various disciplines; generate considerable economic returns; inspire new generations toward STEM professions; unite nations worldwide toward shared ambitions; reflect upon who humans truly are - beings propelled forward relentlessly, driven solely by innate curiosity coupled with boundless imagination, ceaselessly striving to unravel enigmas contained within infinite exspanse known simply as 'the unknown'. As we move forward, continued investment and prioritization of space travel are crucial, ensuring that we remain committed to unlocking secrets hidden amongst celestial entities, driving human progress, inspiring future breakthroughs, while leaving lasting legacies that echo throughout time eternally, illuminating paths yet unseen but eagerly anticipated by generations yet unborn.<|eot_id|>\n",
      "___________________________________________________________\n",
      "Which response does the modified text come from?\n",
      "\n",
      "Reply with only one character.\n",
      "\n"
     ]
    }
   ],
   "source": [
    "row = df.iloc[0]\n",
    "P = row['P']\n",
    "origin_A = row['origin_A']\n",
    "origin_B = row['origin_B']\n",
    "\n",
    "print(f'''Modified text: {P}\n",
    "___________________________________________________________\n",
    "Original response A: {origin_A}\n",
    "___________________________________________________________\n",
    "Original response B: {origin_B}\n",
    "___________________________________________________________\n",
    "Which response does the modified text come from?\n",
    "\n",
    "Reply with only one character.\n",
    "''')"
   ]
  },
  {
   "cell_type": "code",
   "execution_count": null,
   "metadata": {},
   "outputs": [],
   "source": []
  }
 ],
 "metadata": {
  "kernelspec": {
   "display_name": "watermark",
   "language": "python",
   "name": "python3"
  },
  "language_info": {
   "codemirror_mode": {
    "name": "ipython",
    "version": 3
   },
   "file_extension": ".py",
   "mimetype": "text/x-python",
   "name": "python",
   "nbconvert_exporter": "python",
   "pygments_lexer": "ipython3",
   "version": "3.10.14"
  }
 },
 "nbformat": 4,
 "nbformat_minor": 2
}
