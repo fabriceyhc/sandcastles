{
 "cells": [
  {
   "cell_type": "code",
   "execution_count": 20,
   "metadata": {},
   "outputs": [],
   "source": [
    "import pandas as pd\n",
    "from matplotlib import pyplot as plt"
   ]
  },
  {
   "cell_type": "code",
   "execution_count": 4,
   "metadata": {},
   "outputs": [],
   "source": [
    "df = pd.read_csv('/data2/borito1907/sandcastles/outputs/InternLMOracle_GPT4o_unwatermarked_SentenceMutator_n-steps=500_attack_results_annotated.csv')"
   ]
  },
  {
   "cell_type": "code",
   "execution_count": 6,
   "metadata": {},
   "outputs": [
    {
     "name": "stdout",
     "output_type": "stream",
     "text": [
      "Length of attacks: 90\n"
     ]
    }
   ],
   "source": [
    "# Helper function to separate attacks based on step_num reset\n",
    "def separate_attacks(df, length=10000):\n",
    "    attacks = []\n",
    "    current_attack = []\n",
    "    \n",
    "    for idx, row in df.iterrows():\n",
    "        # Start a new attack if the step_num resets\n",
    "        if idx > 0 and row['step_num'] < df.loc[idx - 1, 'step_num']:\n",
    "            attacks.append(pd.DataFrame(current_attack))\n",
    "            current_attack = []        \n",
    "\n",
    "        current_attack.append(row)\n",
    "    \n",
    "    # Append the last attack\n",
    "    if current_attack:\n",
    "        attacks.append(pd.DataFrame(current_attack))\n",
    "    \n",
    "    return attacks\n",
    "\n",
    "attacks = separate_attacks(df)\n",
    "\n",
    "print(f\"Length of attacks: {len(attacks)}\")"
   ]
  },
  {
   "cell_type": "code",
   "execution_count": 11,
   "metadata": {},
   "outputs": [
    {
     "data": {
      "text/plain": [
       "0       True\n",
       "1       True\n",
       "2       True\n",
       "3       True\n",
       "4       True\n",
       "       ...  \n",
       "497    False\n",
       "498    False\n",
       "499     True\n",
       "500     True\n",
       "501    False\n",
       "Name: quality_preserved, Length: 502, dtype: bool"
      ]
     },
     "execution_count": 11,
     "metadata": {},
     "output_type": "execute_result"
    }
   ],
   "source": [
    "attack = attacks[0]"
   ]
  },
  {
   "cell_type": "code",
   "execution_count": 15,
   "metadata": {},
   "outputs": [
    {
     "name": "stdout",
     "output_type": "stream",
     "text": [
      "359\n",
      "354\n",
      "463\n",
      "194\n",
      "183\n",
      "304\n",
      "54\n",
      "196\n",
      "268\n",
      "91\n",
      "248\n",
      "131\n",
      "140\n",
      "171\n",
      "120\n",
      "121\n",
      "242\n",
      "136\n",
      "186\n",
      "129\n",
      "114\n",
      "131\n",
      "97\n",
      "239\n",
      "149\n",
      "48\n",
      "125\n",
      "125\n",
      "82\n",
      "223\n",
      "241\n",
      "165\n",
      "132\n",
      "155\n",
      "309\n",
      "273\n",
      "274\n",
      "200\n",
      "304\n",
      "159\n",
      "254\n",
      "84\n",
      "145\n",
      "253\n",
      "218\n",
      "111\n",
      "94\n",
      "234\n",
      "254\n",
      "286\n",
      "369\n",
      "88\n",
      "77\n",
      "116\n",
      "139\n",
      "274\n",
      "203\n",
      "80\n",
      "66\n",
      "91\n",
      "447\n",
      "493\n",
      "502\n",
      "502\n",
      "312\n",
      "419\n",
      "435\n",
      "500\n",
      "144\n",
      "259\n",
      "475\n",
      "208\n",
      "176\n",
      "266\n",
      "378\n",
      "65\n",
      "65\n",
      "274\n",
      "40\n",
      "289\n",
      "99\n",
      "162\n",
      "148\n",
      "168\n",
      "109\n",
      "210\n",
      "36\n",
      "31\n",
      "161\n",
      "91\n"
     ]
    }
   ],
   "source": [
    "def count_successful_mutations(df):\n",
    "    return df['quality_preserved'].sum()\n",
    "\n",
    "for attack in attacks:\n",
    "    print(count_successful_mutations(attack))"
   ]
  },
  {
   "cell_type": "code",
   "execution_count": 16,
   "metadata": {},
   "outputs": [],
   "source": [
    "analysis_df = pd.read_csv('/data2/borito1907/sandcastles/distinguisher/results/long_InternLMOracle_GPT4o_unwatermarked_SentenceMutator_news_SimpleDistinguisher.csv')"
   ]
  },
  {
   "cell_type": "code",
   "execution_count": 17,
   "metadata": {},
   "outputs": [
    {
     "data": {
      "text/plain": [
       "30"
      ]
     },
     "execution_count": 17,
     "metadata": {},
     "output_type": "execute_result"
    }
   ],
   "source": [
    "attacks = []\n",
    "current_attack = []\n",
    "\n",
    "for idx, row in analysis_df.iterrows():\n",
    "    # Start a new attack if the step_num resets\n",
    "    if idx > 0 and row['Num'] < analysis_df.loc[idx - 1, 'Num']:\n",
    "        attacks.append(pd.DataFrame(current_attack))\n",
    "        current_attack = []        \n",
    "\n",
    "    current_attack.append(row)\n",
    "\n",
    "# Append the last attack\n",
    "if current_attack:\n",
    "    attacks.append(pd.DataFrame(current_attack))\n",
    "\n",
    "len(attacks)\n"
   ]
  },
  {
   "cell_type": "code",
   "execution_count": 22,
   "metadata": {},
   "outputs": [
    {
     "name": "stdout",
     "output_type": "stream",
     "text": [
      "894\n",
      "894\n",
      "986\n",
      "624\n",
      "838\n",
      "624\n",
      "870\n",
      "288\n",
      "288\n",
      "518\n",
      "416\n",
      "416\n",
      "352\n",
      "352\n",
      "532\n",
      "124\n",
      "124\n",
      "126\n",
      "70\n",
      "70\n",
      "196\n",
      "296\n",
      "322\n",
      "296\n",
      "218\n",
      "68\n",
      "68\n",
      "58\n",
      "58\n",
      "182\n"
     ]
    }
   ],
   "source": [
    "for attack in attacks:\n",
    "    print(len(attack))"
   ]
  },
  {
   "cell_type": "code",
   "execution_count": 42,
   "metadata": {},
   "outputs": [],
   "source": [
    "long_attacks = [attack for attack in attacks if len(attack) > 400]"
   ]
  },
  {
   "cell_type": "code",
   "execution_count": 43,
   "metadata": {},
   "outputs": [],
   "source": [
    "combined_long_attacks = pd.concat(long_attacks)"
   ]
  },
  {
   "cell_type": "code",
   "execution_count": 12,
   "metadata": {},
   "outputs": [],
   "source": [
    "def return_correct_flipped_correct(df, prefix=\"\"):\n",
    "    df[f'{prefix}correct'] = (df['Origin'] == df[f'{prefix}choice']).astype(float)\n",
    "    df[f'{prefix}flipped_correct'] = (df['Origin'] == df[f'{prefix}flipped_choice']).astype(float)\n",
    "    df[f'{prefix}avg_correct'] = (df[f'{prefix}correct']+df[f'{prefix}flipped_correct'])/2\n",
    "    return df[f'{prefix}correct'].mean(), df[f'{prefix}flipped_correct'].mean(),df[f'{prefix}avg_correct']. mean()\n",
    "\n"
   ]
  },
  {
   "cell_type": "code",
   "execution_count": null,
   "metadata": {},
   "outputs": [],
   "source": [
    "data = []\n",
    "\n",
    "for attack in long_attacks:    \n",
    "    correct, flipped_correct, avg_correct = return_correct_flipped_correct(attack)\n",
    "\n",
    "    data.append({\n",
    "        'correct': correct,\n",
    "        'flipped_correct': flipped_correct,\n",
    "        'avg_correct': avg_correct\n",
    "    })\n",
    "    "
   ]
  },
  {
   "cell_type": "code",
   "execution_count": 45,
   "metadata": {},
   "outputs": [
    {
     "data": {
      "text/plain": [
       "0.12884039827550106"
      ]
     },
     "execution_count": 45,
     "metadata": {},
     "output_type": "execute_result"
    }
   ],
   "source": [
    "data_df = pd.DataFrame(data)\n",
    "\n",
    "data_df['avg_correct'].std()"
   ]
  },
  {
   "cell_type": "code",
   "execution_count": 46,
   "metadata": {},
   "outputs": [
    {
     "data": {
      "text/html": [
       "<div>\n",
       "<style scoped>\n",
       "    .dataframe tbody tr th:only-of-type {\n",
       "        vertical-align: middle;\n",
       "    }\n",
       "\n",
       "    .dataframe tbody tr th {\n",
       "        vertical-align: top;\n",
       "    }\n",
       "\n",
       "    .dataframe thead th {\n",
       "        text-align: right;\n",
       "    }\n",
       "</style>\n",
       "<table border=\"1\" class=\"dataframe\">\n",
       "  <thead>\n",
       "    <tr style=\"text-align: right;\">\n",
       "      <th></th>\n",
       "      <th>correct</th>\n",
       "      <th>flipped_correct</th>\n",
       "      <th>avg_correct</th>\n",
       "    </tr>\n",
       "  </thead>\n",
       "  <tbody>\n",
       "    <tr>\n",
       "      <th>0</th>\n",
       "      <td>0.855705</td>\n",
       "      <td>1.000000</td>\n",
       "      <td>0.927852</td>\n",
       "    </tr>\n",
       "    <tr>\n",
       "      <th>1</th>\n",
       "      <td>1.000000</td>\n",
       "      <td>1.000000</td>\n",
       "      <td>1.000000</td>\n",
       "    </tr>\n",
       "    <tr>\n",
       "      <th>2</th>\n",
       "      <td>1.000000</td>\n",
       "      <td>0.734280</td>\n",
       "      <td>0.867140</td>\n",
       "    </tr>\n",
       "    <tr>\n",
       "      <th>3</th>\n",
       "      <td>0.963141</td>\n",
       "      <td>0.956731</td>\n",
       "      <td>0.959936</td>\n",
       "    </tr>\n",
       "    <tr>\n",
       "      <th>4</th>\n",
       "      <td>0.865155</td>\n",
       "      <td>1.000000</td>\n",
       "      <td>0.932578</td>\n",
       "    </tr>\n",
       "    <tr>\n",
       "      <th>5</th>\n",
       "      <td>0.958333</td>\n",
       "      <td>1.000000</td>\n",
       "      <td>0.979167</td>\n",
       "    </tr>\n",
       "    <tr>\n",
       "      <th>6</th>\n",
       "      <td>0.621839</td>\n",
       "      <td>1.000000</td>\n",
       "      <td>0.810920</td>\n",
       "    </tr>\n",
       "    <tr>\n",
       "      <th>7</th>\n",
       "      <td>0.519305</td>\n",
       "      <td>0.768340</td>\n",
       "      <td>0.643822</td>\n",
       "    </tr>\n",
       "    <tr>\n",
       "      <th>8</th>\n",
       "      <td>0.639423</td>\n",
       "      <td>0.766827</td>\n",
       "      <td>0.703125</td>\n",
       "    </tr>\n",
       "    <tr>\n",
       "      <th>9</th>\n",
       "      <td>0.774038</td>\n",
       "      <td>0.555288</td>\n",
       "      <td>0.664663</td>\n",
       "    </tr>\n",
       "    <tr>\n",
       "      <th>10</th>\n",
       "      <td>0.842105</td>\n",
       "      <td>0.939850</td>\n",
       "      <td>0.890977</td>\n",
       "    </tr>\n",
       "  </tbody>\n",
       "</table>\n",
       "</div>"
      ],
      "text/plain": [
       "     correct  flipped_correct  avg_correct\n",
       "0   0.855705         1.000000     0.927852\n",
       "1   1.000000         1.000000     1.000000\n",
       "2   1.000000         0.734280     0.867140\n",
       "3   0.963141         0.956731     0.959936\n",
       "4   0.865155         1.000000     0.932578\n",
       "5   0.958333         1.000000     0.979167\n",
       "6   0.621839         1.000000     0.810920\n",
       "7   0.519305         0.768340     0.643822\n",
       "8   0.639423         0.766827     0.703125\n",
       "9   0.774038         0.555288     0.664663\n",
       "10  0.842105         0.939850     0.890977"
      ]
     },
     "execution_count": 46,
     "metadata": {},
     "output_type": "execute_result"
    }
   ],
   "source": [
    "data_df"
   ]
  },
  {
   "cell_type": "code",
   "execution_count": 53,
   "metadata": {},
   "outputs": [
    {
     "data": {
      "text/plain": [
       "(0.8019607843137255, 0.9366013071895425, 0.869281045751634)"
      ]
     },
     "execution_count": 53,
     "metadata": {},
     "output_type": "execute_result"
    }
   ],
   "source": [
    "analysis_df = analysis_df[analysis_df['Num'] >= 50]\n",
    "return_correct_flipped_correct(analysis_df)"
   ]
  },
  {
   "cell_type": "code",
   "execution_count": 18,
   "metadata": {},
   "outputs": [],
   "source": [
    "df_sublists = [[] for _ in range(10)]  # prepare 10 empty lists\n",
    "\n",
    "for i, df in enumerate(attacks):\n",
    "    remainder = i % 10\n",
    "    df_sublists[remainder].append(df)\n",
    "\n",
    "entropy_dfs = [pd.concat(lst) for lst in df_sublists]\n"
   ]
  },
  {
   "cell_type": "code",
   "execution_count": 19,
   "metadata": {},
   "outputs": [
    {
     "name": "stdout",
     "output_type": "stream",
     "text": [
      "(0.8147410358565738, 0.9355909694555112, 0.8751660026560425)\n",
      "(0.9371108343711083, 0.798879202988792, 0.8679950186799502)\n",
      "(0.9006024096385542, 0.6987951807228916, 0.7996987951807228)\n",
      "(0.9308176100628931, 0.9064465408805031, 0.9186320754716981)\n",
      "(0.8753148614609572, 0.9798488664987406, 0.9275818639798489)\n",
      "(0.9681372549019608, 1.0, 0.9840686274509803)\n",
      "(0.6902071563088512, 1.0, 0.8451035781544256)\n",
      "(1.0, 1.0, 1.0)\n",
      "(0.9206730769230769, 0.8269230769230769, 0.8737980769230769)\n",
      "(0.6766233766233766, 0.8441558441558441, 0.7603896103896104)\n"
     ]
    }
   ],
   "source": [
    "for entropy_df in entropy_dfs:\n",
    "    print(return_correct_flipped_correct(entropy_df))"
   ]
  },
  {
   "cell_type": "code",
   "execution_count": null,
   "metadata": {},
   "outputs": [],
   "source": []
  }
 ],
 "metadata": {
  "kernelspec": {
   "display_name": "gptq",
   "language": "python",
   "name": "python3"
  },
  "language_info": {
   "codemirror_mode": {
    "name": "ipython",
    "version": 3
   },
   "file_extension": ".py",
   "mimetype": "text/x-python",
   "name": "python",
   "nbconvert_exporter": "python",
   "pygments_lexer": "ipython3",
   "version": "3.10.14"
  }
 },
 "nbformat": 4,
 "nbformat_minor": 2
}
